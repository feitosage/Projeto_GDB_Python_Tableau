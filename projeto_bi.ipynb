{
 "cells": [
  {
   "cell_type": "markdown",
   "metadata": {},
   "source": [
    "#### Bibliotecas"
   ]
  },
  {
   "cell_type": "code",
   "execution_count": 1,
   "metadata": {},
   "outputs": [],
   "source": [
    "import pandas as pd\n",
    "from google.cloud import bigquery\n",
    "from platform import python_version\n",
    "from google.oauth2 import service_account\n",
    "from datetime import datetime\n",
    "import gspread as gs\n",
    "from oauth2client.service_account import ServiceAccountCredentials\n",
    "import calendar"
   ]
  },
  {
   "cell_type": "code",
   "execution_count": 2,
   "metadata": {},
   "outputs": [
    {
     "name": "stdout",
     "output_type": "stream",
     "text": [
      "Versão utilizada deste notebook: 3.12.4\n"
     ]
    }
   ],
   "source": [
    "# Versão do notebook utilizada\n",
    "print(\"Versão utilizada deste notebook:\", python_version())"
   ]
  },
  {
   "cell_type": "code",
   "execution_count": 4,
   "metadata": {},
   "outputs": [],
   "source": [
    "# Variáveis de tempo\n",
    "\n",
    "data_ini = '2020-01-01'\n",
    "data_atual = datetime.now().date()"
   ]
  },
  {
   "cell_type": "markdown",
   "metadata": {},
   "source": [
    "#### Criação de Consultas"
   ]
  },
  {
   "cell_type": "code",
   "execution_count": 5,
   "metadata": {},
   "outputs": [],
   "source": [
    "qry_vendas = f\"\"\"\n",
    "SELECT \n",
    "  EXTRACT(YEAR FROM o.created_at) AS Ano,\n",
    "  EXTRACT(MONTH FROM o.created_at) AS Mes,\n",
    "  o.order_id AS ID_Pedido,\n",
    "  o.user_id AS ID_Cliente,\n",
    "  CASE\n",
    "    WHEN o.status = \"Shipped\"\n",
    "    THEN \"Enviado\"\n",
    "    ELSE \"Processando\"\n",
    "    END AS Status_Pedido,\n",
    "  DATE(o.created_at) AS Data_Pedido,\n",
    "  CASE \n",
    "    WHEN DATE(o.shipped_at) is null\n",
    "    THEN '1900-01-01'\n",
    "    ELSE DATE(o.shipped_at)\n",
    "    END AS Data_Envio,\n",
    "  ROUND(SUM(oi.sale_price),2) AS Valor_Pedido,\n",
    "  o.num_of_item AS Quantidade_Itens,\n",
    "  u.state AS Estado,\n",
    "  CASE\n",
    "    WHEN u.city is null\n",
    "    THEN 'Outra'\n",
    "    ELSE u.city\n",
    "    END AS Cidade,\n",
    "  u.country AS Pais,\n",
    "  u.postal_code\n",
    "FROM bigquery-public-data.thelook_ecommerce.orders o\n",
    "INNER JOIN bigquery-public-data.thelook_ecommerce.users u\n",
    "  ON u.id = o.user_id\n",
    "INNER JOIN bigquery-public-data.thelook_ecommerce.order_items oi\n",
    "  ON oi.order_id = o.order_id\n",
    "WHERE \n",
    "  o.status IN ('Shipped', 'Processing') AND\n",
    "  DATE(o.created_at) BETWEEN '{data_ini}' AND '{data_atual}' AND\n",
    "  u.country = \"Brasil\"\n",
    "GROUP BY 1,2,3,4,5,6,7,9,10,11,12,13\n",
    "ORDER BY 6 DESC\n",
    "\n",
    "\n",
    "\"\"\""
   ]
  },
  {
   "cell_type": "code",
   "execution_count": 6,
   "metadata": {},
   "outputs": [],
   "source": [
    "qry_pub = f\"\"\" WITH PUB AS (SELECT\n",
    "  EXTRACT(YEAR FROM e.created_at) AS Ano,\n",
    "  EXTRACT(MONTH FROM e.created_at) AS Mes,\n",
    "  DATE(e.created_at) AS Data_Acesso,\n",
    "  COUNT(e.session_id) AS ID,\n",
    "  e.city AS Cidade,\n",
    "  e.state AS Estado,    \n",
    "  e.traffic_source AS Origem,\n",
    "  e.event_type AS Tipo_Evento,\n",
    "  e.postal_code AS CEP\n",
    "FROM bigquery-public-data.thelook_ecommerce.events e\n",
    "INNER JOIN bigquery-public-data.thelook_ecommerce.users u\n",
    "  ON e.postal_code= u.postal_code AND e.city = u.city\n",
    "WHERE\n",
    "  DATE(e.created_at) BETWEEN '{data_ini}' AND '{data_atual}' AND\n",
    "  u.country = \"Brasil\"\n",
    "GROUP BY 1,2,3,5,6,7,8,9\n",
    "ORDER BY 1 DESC)\n",
    "\n",
    "SELECT * FROM PUB\n",
    "\n",
    "\"\"\""
   ]
  },
  {
   "cell_type": "code",
   "execution_count": 7,
   "metadata": {},
   "outputs": [],
   "source": [
    "# CONSULTA DE CLIENTES\n",
    "\n",
    "qry_clientes = f\"\"\"\n",
    "WITH CLIENTES AS(\n",
    "SELECT\n",
    "  DATE(u.created_at) AS Data_Cadastro,\n",
    "  u.id AS ID_Cliente,\n",
    "  u.age AS Idade,\n",
    "  CASE\n",
    "    WHEN u.gender = \"F\" THEN 'Feminino'\n",
    "    WHEN u.gender = 'M' THEN 'Masculino'\n",
    "    ELSE 'Outro'\n",
    "  END AS Genero,\n",
    "  u.postal_code AS CEP\n",
    "FROM bigquery-public-data.thelook_ecommerce.users u\n",
    "WHERE DATE(u.created_at) BETWEEN '{data_ini}' AND '{data_atual}')\n",
    "\n",
    "SELECT * FROM CLIENTES\n",
    "\n",
    "\"\"\""
   ]
  },
  {
   "cell_type": "markdown",
   "metadata": {},
   "source": [
    "#### Conexão e Extração de Dados"
   ]
  },
  {
   "cell_type": "code",
   "execution_count": 8,
   "metadata": {},
   "outputs": [],
   "source": [
    "# Configurando credenciais\n",
    "credentials = service_account.Credentials.from_service_account_file(filename = 'C:/Users/User/Documents/Projeto_Google_Big_Query/gbq.json',\n",
    "                                                                    scopes = ['https://www.googleapis.com/auth/cloud-platform'])"
   ]
  },
  {
   "cell_type": "code",
   "execution_count": 9,
   "metadata": {},
   "outputs": [
    {
     "name": "stderr",
     "output_type": "stream",
     "text": [
      "C:\\Users\\User\\AppData\\Local\\Temp\\ipykernel_10332\\3412748997.py:2: FutureWarning: read_gbq is deprecated and will be removed in a future version. Please use pandas_gbq.read_gbq instead: https://pandas-gbq.readthedocs.io/en/latest/api.html#pandas_gbq.read_gbq\n",
      "  df_vendas = pd.read_gbq(credentials=credentials, query = qry_vendas)\n",
      "C:\\Users\\User\\AppData\\Local\\Temp\\ipykernel_10332\\3412748997.py:3: FutureWarning: read_gbq is deprecated and will be removed in a future version. Please use pandas_gbq.read_gbq instead: https://pandas-gbq.readthedocs.io/en/latest/api.html#pandas_gbq.read_gbq\n",
      "  df_pub = pd.read_gbq(credentials=credentials, query = qry_pub)\n",
      "C:\\Users\\User\\AppData\\Local\\Temp\\ipykernel_10332\\3412748997.py:4: FutureWarning: read_gbq is deprecated and will be removed in a future version. Please use pandas_gbq.read_gbq instead: https://pandas-gbq.readthedocs.io/en/latest/api.html#pandas_gbq.read_gbq\n",
      "  df_cliente = pd.read_gbq(credentials=credentials, query = qry_clientes)\n"
     ]
    }
   ],
   "source": [
    "# gerando dataframe\n",
    "df_vendas = pd.read_gbq(credentials=credentials, query = qry_vendas)\n",
    "df_pub = pd.read_gbq(credentials=credentials, query = qry_pub)\n",
    "df_cliente = pd.read_gbq(credentials=credentials, query = qry_clientes)"
   ]
  },
  {
   "cell_type": "markdown",
   "metadata": {},
   "source": [
    "#### Análise exploratória dos Dados"
   ]
  },
  {
   "cell_type": "code",
   "execution_count": 10,
   "metadata": {},
   "outputs": [
    {
     "data": {
      "text/html": [
       "<div>\n",
       "<style scoped>\n",
       "    .dataframe tbody tr th:only-of-type {\n",
       "        vertical-align: middle;\n",
       "    }\n",
       "\n",
       "    .dataframe tbody tr th {\n",
       "        vertical-align: top;\n",
       "    }\n",
       "\n",
       "    .dataframe thead th {\n",
       "        text-align: right;\n",
       "    }\n",
       "</style>\n",
       "<table border=\"1\" class=\"dataframe\">\n",
       "  <thead>\n",
       "    <tr style=\"text-align: right;\">\n",
       "      <th></th>\n",
       "      <th>Ano</th>\n",
       "      <th>Mes</th>\n",
       "      <th>ID_Pedido</th>\n",
       "      <th>ID_Cliente</th>\n",
       "      <th>Status_Pedido</th>\n",
       "      <th>Data_Pedido</th>\n",
       "      <th>Data_Envio</th>\n",
       "      <th>Valor_Pedido</th>\n",
       "      <th>Quantidade_Itens</th>\n",
       "      <th>Estado</th>\n",
       "      <th>Cidade</th>\n",
       "      <th>Pais</th>\n",
       "      <th>postal_code</th>\n",
       "    </tr>\n",
       "  </thead>\n",
       "  <tbody>\n",
       "    <tr>\n",
       "      <th>0</th>\n",
       "      <td>2024</td>\n",
       "      <td>6</td>\n",
       "      <td>29236</td>\n",
       "      <td>23430</td>\n",
       "      <td>Processando</td>\n",
       "      <td>2024-06-29</td>\n",
       "      <td>1900-01-01</td>\n",
       "      <td>24.00</td>\n",
       "      <td>1</td>\n",
       "      <td>Paraná</td>\n",
       "      <td>Jacarezinho</td>\n",
       "      <td>Brasil</td>\n",
       "      <td>86400-000</td>\n",
       "    </tr>\n",
       "    <tr>\n",
       "      <th>1</th>\n",
       "      <td>2024</td>\n",
       "      <td>6</td>\n",
       "      <td>33232</td>\n",
       "      <td>26611</td>\n",
       "      <td>Processando</td>\n",
       "      <td>2024-06-29</td>\n",
       "      <td>1900-01-01</td>\n",
       "      <td>36.99</td>\n",
       "      <td>2</td>\n",
       "      <td>Rio de Janeiro</td>\n",
       "      <td>Casimiro de Abreu</td>\n",
       "      <td>Brasil</td>\n",
       "      <td>28860-000</td>\n",
       "    </tr>\n",
       "    <tr>\n",
       "      <th>2</th>\n",
       "      <td>2024</td>\n",
       "      <td>6</td>\n",
       "      <td>37334</td>\n",
       "      <td>29917</td>\n",
       "      <td>Processando</td>\n",
       "      <td>2024-06-29</td>\n",
       "      <td>1900-01-01</td>\n",
       "      <td>182.50</td>\n",
       "      <td>2</td>\n",
       "      <td>Mato Grosso do Sul</td>\n",
       "      <td>Três Lagoas</td>\n",
       "      <td>Brasil</td>\n",
       "      <td>79640-310</td>\n",
       "    </tr>\n",
       "    <tr>\n",
       "      <th>3</th>\n",
       "      <td>2024</td>\n",
       "      <td>6</td>\n",
       "      <td>80032</td>\n",
       "      <td>64140</td>\n",
       "      <td>Processando</td>\n",
       "      <td>2024-06-29</td>\n",
       "      <td>1900-01-01</td>\n",
       "      <td>91.46</td>\n",
       "      <td>2</td>\n",
       "      <td>Ceará</td>\n",
       "      <td>Fortaleza</td>\n",
       "      <td>Brasil</td>\n",
       "      <td>60714-222</td>\n",
       "    </tr>\n",
       "    <tr>\n",
       "      <th>4</th>\n",
       "      <td>2024</td>\n",
       "      <td>6</td>\n",
       "      <td>111612</td>\n",
       "      <td>89363</td>\n",
       "      <td>Processando</td>\n",
       "      <td>2024-06-29</td>\n",
       "      <td>1900-01-01</td>\n",
       "      <td>9.20</td>\n",
       "      <td>1</td>\n",
       "      <td>Bahia</td>\n",
       "      <td>Camaçari</td>\n",
       "      <td>Brasil</td>\n",
       "      <td>42800-970</td>\n",
       "    </tr>\n",
       "    <tr>\n",
       "      <th>5</th>\n",
       "      <td>2024</td>\n",
       "      <td>6</td>\n",
       "      <td>119922</td>\n",
       "      <td>96076</td>\n",
       "      <td>Processando</td>\n",
       "      <td>2024-06-29</td>\n",
       "      <td>1900-01-01</td>\n",
       "      <td>233.75</td>\n",
       "      <td>3</td>\n",
       "      <td>Pará</td>\n",
       "      <td>null</td>\n",
       "      <td>Brasil</td>\n",
       "      <td>68695-000</td>\n",
       "    </tr>\n",
       "    <tr>\n",
       "      <th>6</th>\n",
       "      <td>2024</td>\n",
       "      <td>6</td>\n",
       "      <td>254</td>\n",
       "      <td>204</td>\n",
       "      <td>Enviado</td>\n",
       "      <td>2024-06-29</td>\n",
       "      <td>2024-06-30</td>\n",
       "      <td>214.14</td>\n",
       "      <td>4</td>\n",
       "      <td>Bahia</td>\n",
       "      <td>Catu</td>\n",
       "      <td>Brasil</td>\n",
       "      <td>48110-000</td>\n",
       "    </tr>\n",
       "    <tr>\n",
       "      <th>7</th>\n",
       "      <td>2024</td>\n",
       "      <td>6</td>\n",
       "      <td>1796</td>\n",
       "      <td>1444</td>\n",
       "      <td>Enviado</td>\n",
       "      <td>2024-06-29</td>\n",
       "      <td>2024-06-30</td>\n",
       "      <td>19.99</td>\n",
       "      <td>1</td>\n",
       "      <td>Bahia</td>\n",
       "      <td>Dias d'Ávila</td>\n",
       "      <td>Brasil</td>\n",
       "      <td>42850-000</td>\n",
       "    </tr>\n",
       "    <tr>\n",
       "      <th>8</th>\n",
       "      <td>2024</td>\n",
       "      <td>6</td>\n",
       "      <td>6899</td>\n",
       "      <td>5548</td>\n",
       "      <td>Enviado</td>\n",
       "      <td>2024-06-29</td>\n",
       "      <td>2024-06-30</td>\n",
       "      <td>12.99</td>\n",
       "      <td>1</td>\n",
       "      <td>São Paulo</td>\n",
       "      <td>Santa Cruz do Rio Pardo</td>\n",
       "      <td>Brasil</td>\n",
       "      <td>18900-000</td>\n",
       "    </tr>\n",
       "    <tr>\n",
       "      <th>9</th>\n",
       "      <td>2024</td>\n",
       "      <td>6</td>\n",
       "      <td>9399</td>\n",
       "      <td>7527</td>\n",
       "      <td>Enviado</td>\n",
       "      <td>2024-06-29</td>\n",
       "      <td>2024-07-01</td>\n",
       "      <td>33.00</td>\n",
       "      <td>1</td>\n",
       "      <td>Paraná</td>\n",
       "      <td>Curitiba</td>\n",
       "      <td>Brasil</td>\n",
       "      <td>82590-300</td>\n",
       "    </tr>\n",
       "  </tbody>\n",
       "</table>\n",
       "</div>"
      ],
      "text/plain": [
       "    Ano  Mes  ID_Pedido  ID_Cliente Status_Pedido Data_Pedido  Data_Envio  \\\n",
       "0  2024    6      29236       23430   Processando  2024-06-29  1900-01-01   \n",
       "1  2024    6      33232       26611   Processando  2024-06-29  1900-01-01   \n",
       "2  2024    6      37334       29917   Processando  2024-06-29  1900-01-01   \n",
       "3  2024    6      80032       64140   Processando  2024-06-29  1900-01-01   \n",
       "4  2024    6     111612       89363   Processando  2024-06-29  1900-01-01   \n",
       "5  2024    6     119922       96076   Processando  2024-06-29  1900-01-01   \n",
       "6  2024    6        254         204       Enviado  2024-06-29  2024-06-30   \n",
       "7  2024    6       1796        1444       Enviado  2024-06-29  2024-06-30   \n",
       "8  2024    6       6899        5548       Enviado  2024-06-29  2024-06-30   \n",
       "9  2024    6       9399        7527       Enviado  2024-06-29  2024-07-01   \n",
       "\n",
       "   Valor_Pedido  Quantidade_Itens              Estado  \\\n",
       "0         24.00                 1              Paraná   \n",
       "1         36.99                 2      Rio de Janeiro   \n",
       "2        182.50                 2  Mato Grosso do Sul   \n",
       "3         91.46                 2               Ceará   \n",
       "4          9.20                 1               Bahia   \n",
       "5        233.75                 3                Pará   \n",
       "6        214.14                 4               Bahia   \n",
       "7         19.99                 1               Bahia   \n",
       "8         12.99                 1           São Paulo   \n",
       "9         33.00                 1              Paraná   \n",
       "\n",
       "                    Cidade    Pais postal_code  \n",
       "0              Jacarezinho  Brasil   86400-000  \n",
       "1        Casimiro de Abreu  Brasil   28860-000  \n",
       "2              Três Lagoas  Brasil   79640-310  \n",
       "3                Fortaleza  Brasil   60714-222  \n",
       "4                 Camaçari  Brasil   42800-970  \n",
       "5                     null  Brasil   68695-000  \n",
       "6                     Catu  Brasil   48110-000  \n",
       "7             Dias d'Ávila  Brasil   42850-000  \n",
       "8  Santa Cruz do Rio Pardo  Brasil   18900-000  \n",
       "9                 Curitiba  Brasil   82590-300  "
      ]
     },
     "execution_count": 10,
     "metadata": {},
     "output_type": "execute_result"
    }
   ],
   "source": [
    "# dados da coluna \"Data_Envio\" com valor de \"1900-01-01\" denota que não houve envio. A data foi utilizada para normalizar os valores na coluna, sem ausência de informação (nulo).\n",
    "df_vendas.head(10)"
   ]
  },
  {
   "cell_type": "code",
   "execution_count": 11,
   "metadata": {},
   "outputs": [
    {
     "data": {
      "text/plain": [
       "Ano                   Int64\n",
       "Mes                   Int64\n",
       "ID_Pedido             Int64\n",
       "ID_Cliente            Int64\n",
       "Status_Pedido        object\n",
       "Data_Pedido          dbdate\n",
       "Data_Envio           dbdate\n",
       "Valor_Pedido        float64\n",
       "Quantidade_Itens      Int64\n",
       "Estado               object\n",
       "Cidade               object\n",
       "Pais                 object\n",
       "postal_code          object\n",
       "dtype: object"
      ]
     },
     "execution_count": 11,
     "metadata": {},
     "output_type": "execute_result"
    }
   ],
   "source": [
    "# Verificando os tipos de dados de cada coluna para manipulação adequada.\n",
    "\n",
    "df_vendas.dtypes"
   ]
  },
  {
   "cell_type": "code",
   "execution_count": 16,
   "metadata": {},
   "outputs": [
    {
     "name": "stdout",
     "output_type": "stream",
     "text": [
      "O total de vendas do período é de: 785956.7\n"
     ]
    }
   ],
   "source": [
    "# Total de Vendas\n",
    "print(f\"O total de vendas do período é de:\", round(df_vendas['Valor_Pedido'].sum(),2))"
   ]
  },
  {
   "cell_type": "markdown",
   "metadata": {},
   "source": []
  },
  {
   "cell_type": "code",
   "execution_count": 17,
   "metadata": {},
   "outputs": [
    {
     "data": {
      "text/plain": [
       "count    9088.000000\n",
       "mean       86.482912\n",
       "std        94.828346\n",
       "min         1.500000\n",
       "25%        28.987500\n",
       "50%        55.490000\n",
       "75%       110.000000\n",
       "max      1270.490000\n",
       "Name: Valor_Pedido, dtype: float64"
      ]
     },
     "execution_count": 17,
     "metadata": {},
     "output_type": "execute_result"
    }
   ],
   "source": [
    "# estatística básica de valores de pedido\n",
    "\n",
    "df_vendas['Valor_Pedido'].describe()"
   ]
  },
  {
   "cell_type": "code",
   "execution_count": 18,
   "metadata": {},
   "outputs": [
    {
     "name": "stdout",
     "output_type": "stream",
     "text": [
      "Total de pedidos: 9088\n"
     ]
    }
   ],
   "source": [
    "# Quantidade de pedidos\n",
    "print(\"Total de pedidos:\",df_vendas['ID_Pedido'].value_counts().sum())"
   ]
  },
  {
   "cell_type": "code",
   "execution_count": 19,
   "metadata": {},
   "outputs": [
    {
     "data": {
      "text/plain": [
       "np.int64(0)"
      ]
     },
     "execution_count": 19,
     "metadata": {},
     "output_type": "execute_result"
    }
   ],
   "source": [
    "# Verificando dados duplicados\n",
    "\n",
    "df_vendas.duplicated().sum()"
   ]
  },
  {
   "cell_type": "code",
   "execution_count": 20,
   "metadata": {},
   "outputs": [
    {
     "data": {
      "text/plain": [
       "Ano                 0\n",
       "Mes                 0\n",
       "ID_Pedido           0\n",
       "ID_Cliente          0\n",
       "Status_Pedido       0\n",
       "Data_Pedido         0\n",
       "Data_Envio          0\n",
       "Valor_Pedido        0\n",
       "Quantidade_Itens    0\n",
       "Estado              0\n",
       "Cidade              0\n",
       "Pais                0\n",
       "postal_code         0\n",
       "dtype: int64"
      ]
     },
     "execution_count": 20,
     "metadata": {},
     "output_type": "execute_result"
    }
   ],
   "source": [
    "# Verificando dados nulos\n",
    "df_vendas.isnull().sum()"
   ]
  },
  {
   "cell_type": "code",
   "execution_count": 184,
   "metadata": {},
   "outputs": [
    {
     "data": {
      "text/html": [
       "<div>\n",
       "<style scoped>\n",
       "    .dataframe tbody tr th:only-of-type {\n",
       "        vertical-align: middle;\n",
       "    }\n",
       "\n",
       "    .dataframe tbody tr th {\n",
       "        vertical-align: top;\n",
       "    }\n",
       "\n",
       "    .dataframe thead th {\n",
       "        text-align: right;\n",
       "    }\n",
       "</style>\n",
       "<table border=\"1\" class=\"dataframe\">\n",
       "  <thead>\n",
       "    <tr style=\"text-align: right;\">\n",
       "      <th></th>\n",
       "      <th>Ano</th>\n",
       "      <th>Mes</th>\n",
       "      <th>Data_Acesso</th>\n",
       "      <th>ID</th>\n",
       "      <th>Cidade</th>\n",
       "      <th>Estado</th>\n",
       "      <th>Origem</th>\n",
       "      <th>Tipo_Evento</th>\n",
       "      <th>CEP</th>\n",
       "    </tr>\n",
       "  </thead>\n",
       "  <tbody>\n",
       "    <tr>\n",
       "      <th>0</th>\n",
       "      <td>2024</td>\n",
       "      <td>4</td>\n",
       "      <td>2024-04-07</td>\n",
       "      <td>402</td>\n",
       "      <td>São Paulo</td>\n",
       "      <td>São Paulo</td>\n",
       "      <td>Organic</td>\n",
       "      <td>cancel</td>\n",
       "      <td>02675-031</td>\n",
       "    </tr>\n",
       "    <tr>\n",
       "      <th>1</th>\n",
       "      <td>2024</td>\n",
       "      <td>1</td>\n",
       "      <td>2024-01-23</td>\n",
       "      <td>402</td>\n",
       "      <td>São Paulo</td>\n",
       "      <td>São Paulo</td>\n",
       "      <td>Organic</td>\n",
       "      <td>cancel</td>\n",
       "      <td>02675-031</td>\n",
       "    </tr>\n",
       "    <tr>\n",
       "      <th>2</th>\n",
       "      <td>2024</td>\n",
       "      <td>6</td>\n",
       "      <td>2024-06-11</td>\n",
       "      <td>10</td>\n",
       "      <td>São Paulo</td>\n",
       "      <td>São Paulo</td>\n",
       "      <td>Email</td>\n",
       "      <td>cancel</td>\n",
       "      <td>08285-060</td>\n",
       "    </tr>\n",
       "    <tr>\n",
       "      <th>3</th>\n",
       "      <td>2024</td>\n",
       "      <td>2</td>\n",
       "      <td>2024-02-24</td>\n",
       "      <td>24</td>\n",
       "      <td>Guarujá</td>\n",
       "      <td>São Paulo</td>\n",
       "      <td>YouTube</td>\n",
       "      <td>cancel</td>\n",
       "      <td>11432-501</td>\n",
       "    </tr>\n",
       "    <tr>\n",
       "      <th>4</th>\n",
       "      <td>2024</td>\n",
       "      <td>2</td>\n",
       "      <td>2024-02-21</td>\n",
       "      <td>18</td>\n",
       "      <td>Praia Grande</td>\n",
       "      <td>São Paulo</td>\n",
       "      <td>Adwords</td>\n",
       "      <td>cancel</td>\n",
       "      <td>11717-260</td>\n",
       "    </tr>\n",
       "  </tbody>\n",
       "</table>\n",
       "</div>"
      ],
      "text/plain": [
       "    Ano  Mes Data_Acesso   ID        Cidade     Estado   Origem Tipo_Evento  \\\n",
       "0  2024    4  2024-04-07  402     São Paulo  São Paulo  Organic      cancel   \n",
       "1  2024    1  2024-01-23  402     São Paulo  São Paulo  Organic      cancel   \n",
       "2  2024    6  2024-06-11   10     São Paulo  São Paulo    Email      cancel   \n",
       "3  2024    2  2024-02-24   24       Guarujá  São Paulo  YouTube      cancel   \n",
       "4  2024    2  2024-02-21   18  Praia Grande  São Paulo  Adwords      cancel   \n",
       "\n",
       "         CEP  \n",
       "0  02675-031  \n",
       "1  02675-031  \n",
       "2  08285-060  \n",
       "3  11432-501  \n",
       "4  11717-260  "
      ]
     },
     "execution_count": 184,
     "metadata": {},
     "output_type": "execute_result"
    }
   ],
   "source": [
    "# o mesmo traatamento de dados foi realizado nos demais datasets\n",
    "\n",
    "df_pub.head(5)"
   ]
  },
  {
   "cell_type": "code",
   "execution_count": 185,
   "metadata": {},
   "outputs": [
    {
     "data": {
      "text/html": [
       "<div>\n",
       "<style scoped>\n",
       "    .dataframe tbody tr th:only-of-type {\n",
       "        vertical-align: middle;\n",
       "    }\n",
       "\n",
       "    .dataframe tbody tr th {\n",
       "        vertical-align: top;\n",
       "    }\n",
       "\n",
       "    .dataframe thead th {\n",
       "        text-align: right;\n",
       "    }\n",
       "</style>\n",
       "<table border=\"1\" class=\"dataframe\">\n",
       "  <thead>\n",
       "    <tr style=\"text-align: right;\">\n",
       "      <th></th>\n",
       "      <th>Cidade</th>\n",
       "      <th>Estado</th>\n",
       "      <th>CEP</th>\n",
       "    </tr>\n",
       "  </thead>\n",
       "  <tbody>\n",
       "    <tr>\n",
       "      <th>0</th>\n",
       "      <td>São Paulo</td>\n",
       "      <td>São Paulo</td>\n",
       "      <td>02675-031</td>\n",
       "    </tr>\n",
       "    <tr>\n",
       "      <th>2</th>\n",
       "      <td>São Paulo</td>\n",
       "      <td>São Paulo</td>\n",
       "      <td>08285-060</td>\n",
       "    </tr>\n",
       "    <tr>\n",
       "      <th>3</th>\n",
       "      <td>Guarujá</td>\n",
       "      <td>São Paulo</td>\n",
       "      <td>11432-501</td>\n",
       "    </tr>\n",
       "    <tr>\n",
       "      <th>4</th>\n",
       "      <td>Praia Grande</td>\n",
       "      <td>São Paulo</td>\n",
       "      <td>11717-260</td>\n",
       "    </tr>\n",
       "    <tr>\n",
       "      <th>5</th>\n",
       "      <td>Paulínia</td>\n",
       "      <td>São Paulo</td>\n",
       "      <td>13140-000</td>\n",
       "    </tr>\n",
       "    <tr>\n",
       "      <th>...</th>\n",
       "      <td>...</td>\n",
       "      <td>...</td>\n",
       "      <td>...</td>\n",
       "    </tr>\n",
       "    <tr>\n",
       "      <th>14729</th>\n",
       "      <td>Viana</td>\n",
       "      <td>Maranhão</td>\n",
       "      <td>65215-000</td>\n",
       "    </tr>\n",
       "    <tr>\n",
       "      <th>16257</th>\n",
       "      <td>Canoinhas</td>\n",
       "      <td>Santa Catarina</td>\n",
       "      <td>89460-000</td>\n",
       "    </tr>\n",
       "    <tr>\n",
       "      <th>16546</th>\n",
       "      <td>Belo Horizonte</td>\n",
       "      <td>Minas Gerais</td>\n",
       "      <td>31270-705</td>\n",
       "    </tr>\n",
       "    <tr>\n",
       "      <th>19376</th>\n",
       "      <td>Bodocó</td>\n",
       "      <td>Pernambuco</td>\n",
       "      <td>56220-000</td>\n",
       "    </tr>\n",
       "    <tr>\n",
       "      <th>33863</th>\n",
       "      <td>Diamantina</td>\n",
       "      <td>Minas Gerais</td>\n",
       "      <td>39100-000</td>\n",
       "    </tr>\n",
       "  </tbody>\n",
       "</table>\n",
       "<p>999 rows × 3 columns</p>\n",
       "</div>"
      ],
      "text/plain": [
       "               Cidade          Estado        CEP\n",
       "0           São Paulo       São Paulo  02675-031\n",
       "2           São Paulo       São Paulo  08285-060\n",
       "3             Guarujá       São Paulo  11432-501\n",
       "4        Praia Grande       São Paulo  11717-260\n",
       "5            Paulínia       São Paulo  13140-000\n",
       "...               ...             ...        ...\n",
       "14729           Viana        Maranhão  65215-000\n",
       "16257       Canoinhas  Santa Catarina  89460-000\n",
       "16546  Belo Horizonte    Minas Gerais  31270-705\n",
       "19376          Bodocó      Pernambuco  56220-000\n",
       "33863      Diamantina    Minas Gerais  39100-000\n",
       "\n",
       "[999 rows x 3 columns]"
      ]
     },
     "execution_count": 185,
     "metadata": {},
     "output_type": "execute_result"
    }
   ],
   "source": [
    "# Criando dataframe dimensão regional\n",
    "\n",
    "df_regiao = df_pub[[\"Cidade\",\"Estado\",'CEP']]\n",
    "df_regiao.drop_duplicates()"
   ]
  },
  {
   "cell_type": "code",
   "execution_count": 186,
   "metadata": {},
   "outputs": [],
   "source": [
    "# Gerando um código de calendário com auxílio do chat gpt hehehe\n",
    "\n",
    "# Definir os anos que queremos gerar\n",
    "anos = [2020, 2021, 2022, 2023, 2024]\n",
    "\n",
    "# Lista para armazenar os dados do calendário\n",
    "lista_calendario = []\n",
    "\n",
    "# Mapeamento dos nomes dos meses em português\n",
    "meses_pt = [\n",
    "    '',\n",
    "    'Janeiro', 'Fevereiro', 'Março', 'Abril', 'Maio', 'Junho',\n",
    "    'Julho', 'Agosto', 'Setembro', 'Outubro', 'Novembro', 'Dezembro'\n",
    "]\n",
    "\n",
    "# Iterar sobre cada ano\n",
    "for ano in anos:\n",
    "    # Iterar sobre cada mês\n",
    "    for mes in range(1, 13):\n",
    "        # Obter o nome do mês em português\n",
    "        nome_mes = meses_pt[mes]\n",
    "        \n",
    "        # Obter o número de dias no mês\n",
    "        dias_no_mes = calendar.monthrange(ano, mes)[1]\n",
    "        \n",
    "        # Iterar sobre cada dia no mês\n",
    "        for dia in range(1, dias_no_mes + 1):\n",
    "            # Obter o dia da semana (segunda-feira = 0, domingo = 6)\n",
    "            dia_semana = calendar.day_name[calendar.weekday(ano, mes, dia)]\n",
    "            \n",
    "            # Formatar a data no formato dia/mês/ano\n",
    "            data_formatada = f\"{dia:02}/{mes:02}/{ano}\"\n",
    "            \n",
    "            # Adicionar as informações ao dicionário\n",
    "            info_dia = {\n",
    "                'Ano': ano,\n",
    "                'Mês': mes,\n",
    "                'Nome do Mês': nome_mes,\n",
    "                'Número do Dia': dia,\n",
    "                'Data': data_formatada\n",
    "            }\n",
    "            \n",
    "            # Adicionar o dicionário à lista\n",
    "            lista_calendario.append(info_dia)\n",
    "\n",
    "# Criar o DataFrame a partir da lista de dicionários\n",
    "df_calendario = pd.DataFrame(lista_calendario)"
   ]
  },
  {
   "cell_type": "markdown",
   "metadata": {},
   "source": [
    "#### Carga de Dados"
   ]
  },
  {
   "cell_type": "code",
   "execution_count": 1,
   "metadata": {},
   "outputs": [
    {
     "ename": "NameError",
     "evalue": "name 'df_vendas' is not defined",
     "output_type": "error",
     "traceback": [
      "\u001b[1;31m---------------------------------------------------------------------------\u001b[0m",
      "\u001b[1;31mNameError\u001b[0m                                 Traceback (most recent call last)",
      "Cell \u001b[1;32mIn[1], line 8\u001b[0m\n\u001b[0;32m      6\u001b[0m dir_cli \u001b[38;5;241m=\u001b[39m \u001b[38;5;124m\"\u001b[39m\u001b[38;5;124mC:/Users/User/Documents/Projeto_Google_Big_Query/datasets/df_cliente.csv\u001b[39m\u001b[38;5;124m\"\u001b[39m\n\u001b[0;32m      7\u001b[0m dir_cal \u001b[38;5;241m=\u001b[39m \u001b[38;5;124m\"\u001b[39m\u001b[38;5;124mC:/Users/User/Documents/Projeto_Google_Big_Query/datasets/df_calendario.csv\u001b[39m\u001b[38;5;124m\"\u001b[39m\n\u001b[1;32m----> 8\u001b[0m \u001b[43mdf_vendas\u001b[49m\u001b[38;5;241m.\u001b[39mto_csv(dir_vendas, index \u001b[38;5;241m=\u001b[39m \u001b[38;5;28;01mFalse\u001b[39;00m)\n\u001b[0;32m      9\u001b[0m df_pub\u001b[38;5;241m.\u001b[39mto_csv(dir_pub, index \u001b[38;5;241m=\u001b[39m \u001b[38;5;28;01mFalse\u001b[39;00m)\n\u001b[0;32m     10\u001b[0m df_regiao\u001b[38;5;241m.\u001b[39mto_csv(dir_reg, index \u001b[38;5;241m=\u001b[39m \u001b[38;5;28;01mFalse\u001b[39;00m)\n",
      "\u001b[1;31mNameError\u001b[0m: name 'df_vendas' is not defined"
     ]
    }
   ],
   "source": [
    "# Salvando dataframes em armazenamento local para carga no tableau\n",
    "\n",
    "dir_vendas = \"C:/Users/User/Documents/Projeto_Google_Big_Query/datasets/df_vendas.csv\"\n",
    "dir_pub = \"C:/Users/User/Documents/Projeto_Google_Big_Query/datasets/df_pub.csv\"\n",
    "dir_reg = \"C:/Users/User/Documents/Projeto_Google_Big_Query/datasets/df_regiao.csv\"\n",
    "dir_cli = \"C:/Users/User/Documents/Projeto_Google_Big_Query/datasets/df_cliente.csv\"\n",
    "dir_cal = \"C:/Users/User/Documents/Projeto_Google_Big_Query/datasets/df_calendario.csv\"\n",
    "df_vendas.to_csv(dir_vendas, index = False)\n",
    "df_pub.to_csv(dir_pub, index = False)\n",
    "df_regiao.to_csv(dir_reg, index = False)\n",
    "df_cliente.to_csv(dir_cli, index = False)\n",
    "df_calendario.to_csv(dir_cal, index = False)"
   ]
  },
  {
   "cell_type": "markdown",
   "metadata": {},
   "source": [
    "### BI de Vendas no Tableau"
   ]
  },
  {
   "cell_type": "code",
   "execution_count": 2,
   "metadata": {},
   "outputs": [
    {
     "name": "stdout",
     "output_type": "stream",
     "text": [
      "https://public.tableau.com/app/profile/george.feitosa/viz/TheLookEcommerceGBQ/AnlisedeFaturamento\n"
     ]
    }
   ],
   "source": [
    "print(\"https://public.tableau.com/app/profile/george.feitosa/viz/TheLookEcommerceGBQ/AnlisedeFaturamento\")"
   ]
  },
  {
   "cell_type": "markdown",
   "metadata": {},
   "source": []
  }
 ],
 "metadata": {
  "kernelspec": {
   "display_name": "Python 3",
   "language": "python",
   "name": "python3"
  },
  "language_info": {
   "codemirror_mode": {
    "name": "ipython",
    "version": 3
   },
   "file_extension": ".py",
   "mimetype": "text/x-python",
   "name": "python",
   "nbconvert_exporter": "python",
   "pygments_lexer": "ipython3",
   "version": "3.12.4"
  }
 },
 "nbformat": 4,
 "nbformat_minor": 2
}
